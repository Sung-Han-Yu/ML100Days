{
  "nbformat": 4,
  "nbformat_minor": 0,
  "metadata": {
    "colab": {
      "name": "作業題目numpy02.ipynb",
      "provenance": []
    },
    "kernelspec": {
      "name": "python3",
      "display_name": "Python 3"
    }
  },
  "cells": [
    {
      "cell_type": "markdown",
      "metadata": {
        "id": "dYa0A8IXNeop"
      },
      "source": [
        "作業目標\n",
        "\n",
        "熟悉陣列維度轉換，並且會擷取需要資料\n",
        "\n",
        "作業重點\n",
        "\n",
        "使用reshap須注意order用法\n",
        "\n",
        "where可以運用邏輯條件擷取資料"
      ]
    },
    {
      "cell_type": "markdown",
      "metadata": {
        "id": "fayhgiIMNN2d"
      },
      "source": [
        "題目：\n",
        "array1 = np.array(range(30))\n",
        "\n",
        "1.將上列陣列(array1)，轉成維度為(5X6)的 array，順序按列填充。(hint:order=\"F\")\n",
        "\n",
        "2.呈上題的 array，找出被 6 除餘 1 的數的索引"
      ]
    },
    {
      "cell_type": "code",
      "metadata": {
        "id": "vHA0zC-5cEm6"
      },
      "source": [
        "import numpy as np"
      ],
      "execution_count": 1,
      "outputs": []
    },
    {
      "cell_type": "code",
      "metadata": {
        "colab": {
          "base_uri": "https://localhost:8080/"
        },
        "id": "1t6Qdw4wcEpv",
        "outputId": "3ca19ab9-fd7b-4401-a22b-7274c9271ec4"
      },
      "source": [
        "#1.將下列清單(list1)，轉成維度為(5X6)的array，順序按列填充。(hint:order=\"F\")\n",
        "array1 = np.array(range(30), order='F')\n",
        "a=array1.reshape((5,6))\n",
        "a"
      ],
      "execution_count": 5,
      "outputs": [
        {
          "output_type": "execute_result",
          "data": {
            "text/plain": [
              "array([[ 0,  1,  2,  3,  4,  5],\n",
              "       [ 6,  7,  8,  9, 10, 11],\n",
              "       [12, 13, 14, 15, 16, 17],\n",
              "       [18, 19, 20, 21, 22, 23],\n",
              "       [24, 25, 26, 27, 28, 29]])"
            ]
          },
          "metadata": {
            "tags": []
          },
          "execution_count": 5
        }
      ]
    },
    {
      "cell_type": "code",
      "metadata": {
        "colab": {
          "base_uri": "https://localhost:8080/"
        },
        "id": "rRC_5TMjNs78",
        "outputId": "2a603fdf-fdf5-4318-aa6e-f012f1711ead"
      },
      "source": [
        "#2.呈上題的array，找出被6除餘1的數的索引\n",
        "b=np.where(a%6==1)\n",
        "b"
      ],
      "execution_count": 25,
      "outputs": [
        {
          "output_type": "execute_result",
          "data": {
            "text/plain": [
              "(array([0, 1, 2, 3, 4]), array([1, 1, 1, 1, 1]))"
            ]
          },
          "metadata": {
            "tags": []
          },
          "execution_count": 25
        }
      ]
    },
    {
      "cell_type": "code",
      "metadata": {
        "id": "rZOWwzRwTdbz"
      },
      "source": [
        "#得出(array([0, 1, 2, 3, 4]), \n",
        "      #array([1, 1, 1, 1, 1]))\n",
        "#上面的回傳值代表 [0, 1], [1, 1], [2, 1], [3, 1], [4, 1] 均為符合條件的元素索引值。"
      ],
      "execution_count": null,
      "outputs": []
    }
  ]
}