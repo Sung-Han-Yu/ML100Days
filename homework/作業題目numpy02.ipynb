{
  "nbformat": 4,
  "nbformat_minor": 0,
  "metadata": {
    "colab": {
      "name": "作業題目numpy02.ipynb",
      "provenance": []
    },
    "kernelspec": {
      "name": "python3",
      "display_name": "Python 3"
    }
  },
  "cells": [
    {
      "cell_type": "markdown",
      "metadata": {
        "id": "dYa0A8IXNeop"
      },
      "source": [
        "作業目標\n",
        "\n",
        "熟悉陣列維度轉換，並且會擷取需要資料\n",
        "\n",
        "作業重點\n",
        "\n",
        "使用reshap須注意order用法\n",
        "\n",
        "where可以運用邏輯條件擷取資料"
      ]
    },
    {
      "cell_type": "markdown",
      "metadata": {
        "id": "fayhgiIMNN2d"
      },
      "source": [
        "題目：\n",
        "array1 = np.array(range(30))\n",
        "\n",
        "1.將上列陣列(array1)，轉成維度為(5X6)的 array，順序按列填充。(hint:order=\"F\")\n",
        "\n",
        "2.呈上題的 array，找出被 6 除餘 1 的數的索引"
      ]
    },
    {
      "cell_type": "code",
      "metadata": {
        "id": "vHA0zC-5cEm6"
      },
      "source": [
        "import numpy as np"
      ],
      "execution_count": 1,
      "outputs": []
    },
    {
      "cell_type": "code",
      "metadata": {
        "colab": {
          "base_uri": "https://localhost:8080/"
        },
        "id": "1t6Qdw4wcEpv",
        "outputId": "1f155af0-392c-4c2a-b432-8eb7e22dbb3b"
      },
      "source": [
        "#1.將下列清單(list1)，轉成維度為(5X6)的array，順序按列填充。(hint:order=\"F\")\n",
        "array1 = np.array(range(30))\n",
        "a=array1.reshape((5,6), order='F')\n",
        "a"
      ],
      "execution_count": 26,
      "outputs": [
        {
          "output_type": "execute_result",
          "data": {
            "text/plain": [
              "array([[ 0,  5, 10, 15, 20, 25],\n",
              "       [ 1,  6, 11, 16, 21, 26],\n",
              "       [ 2,  7, 12, 17, 22, 27],\n",
              "       [ 3,  8, 13, 18, 23, 28],\n",
              "       [ 4,  9, 14, 19, 24, 29]])"
            ]
          },
          "metadata": {
            "tags": []
          },
          "execution_count": 26
        }
      ]
    },
    {
      "cell_type": "code",
      "metadata": {
        "colab": {
          "base_uri": "https://localhost:8080/"
        },
        "id": "rRC_5TMjNs78",
        "outputId": "cda88760-2d6a-47df-ba7f-e7a7f0ce1bc8"
      },
      "source": [
        "#2.呈上題的array，找出被6除餘1的數的索引\n",
        "b=np.where(a%6==1)\n",
        "b"
      ],
      "execution_count": 28,
      "outputs": [
        {
          "output_type": "execute_result",
          "data": {
            "text/plain": [
              "(array([0, 1, 2, 3, 4]), array([5, 0, 1, 2, 3]))"
            ]
          },
          "metadata": {
            "tags": []
          },
          "execution_count": 28
        }
      ]
    },
    {
      "cell_type": "code",
      "metadata": {
        "id": "rZOWwzRwTdbz"
      },
      "source": [
        "#得出(array([0, 1, 2, 3, 4]),\n",
        "      #array([5, 0, 1, 2, 3]))\n",
        "#上面的回傳值代表 [0, 5], [1, 0], [2, 1], [3, 2], [4, 3] 均為符合條件的元素索引值。"
      ],
      "execution_count": null,
      "outputs": []
    }
  ]
}